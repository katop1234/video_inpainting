{
 "cells": [
  {
   "cell_type": "code",
   "execution_count": 15,
   "metadata": {},
   "outputs": [],
   "source": [
    "import os\n",
    "import cv2\n",
    "import numpy as np\n",
    "\n",
    "def davis_2x2_prepare_colorization_data_images(input_folder, output_folder):\n",
    "    if not os.path.exists(output_folder):\n",
    "        os.makedirs(output_folder)\n",
    "    \n",
    "    for filename in os.listdir(input_folder):\n",
    "        image_path = os.path.join(input_folder, filename)\n",
    "        image = cv2.imread(image_path)\n",
    "        prepared_image = davis_2x2_process_quadrants(image)\n",
    "        \n",
    "        save_path = os.path.join(output_folder, filename)\n",
    "        cv2.imwrite(save_path, prepared_image)\n",
    "\n",
    "def davis_2x2_process_quadrants(image):\n",
    "    h, w, c = image.shape\n",
    "\n",
    "    # Extract individual quadrants\n",
    "    top_left = image[:h//2, :w//2]      # GT for segmentation examples\n",
    "    top_right = image[:h//2, w//2:]     # Segmented GT\n",
    "    bottom_left = image[h//2:, :w//2]   # Test GT\n",
    "    bottom_right = image[h//2:, w//2:]  # Segmented Test GT\n",
    "\n",
    "    # Convert the top left (GT) to grayscale for our colorization example\n",
    "    top_left_gray = cv2.cvtColor(top_left, cv2.COLOR_BGR2GRAY)\n",
    "    top_left_colored = cv2.cvtColor(top_left_gray, cv2.COLOR_GRAY2BGR)\n",
    "\n",
    "    # Convert the bottom left (Test GT) to grayscale\n",
    "    bottom_left_gray = cv2.cvtColor(bottom_left, cv2.COLOR_BGR2GRAY)\n",
    "    bottom_left_colored = cv2.cvtColor(bottom_left_gray, cv2.COLOR_GRAY2BGR)\n",
    "\n",
    "    # Combine quadrants to form a new image for colorization tasks\n",
    "    top_half = np.concatenate((top_left_colored, top_left), axis=1)  # Putting grayscale GT beside original GT\n",
    "    bottom_half = np.concatenate((bottom_left_colored, bottom_left), axis=1)  # Putting grayscale Test GT beside original Test GT\n",
    "\n",
    "    new_image = np.concatenate((top_half, bottom_half), axis=0)\n",
    "    return new_image\n",
    "\n",
    "\n",
    "def davis_2x2_prepare_colorization_data_videos(input_folder, output_folder):\n",
    "    if not os.path.exists(output_folder):\n",
    "        os.makedirs(output_folder)\n",
    "\n",
    "    for filename in os.listdir(input_folder):\n",
    "        video_path = os.path.join(input_folder, filename)\n",
    "        cap = cv2.VideoCapture(video_path)\n",
    "        fourcc = cv2.VideoWriter_fourcc(*'XVID')\n",
    "        \n",
    "        filename = \"colorization_\" + filename\n",
    "        out_path = os.path.join(output_folder, filename)\n",
    "        out = None\n",
    "\n",
    "        while(cap.isOpened()):\n",
    "            ret, frame = cap.read()\n",
    "            if not ret:\n",
    "                break\n",
    "            \n",
    "            prepared_frame = davis_2x2_process_quadrants(frame)\n",
    "            \n",
    "            if out is None:\n",
    "                [h, w, d] = prepared_frame.shape\n",
    "                out = cv2.VideoWriter(out_path, fourcc, 30.0, (w, h))\n",
    "            \n",
    "            out.write(prepared_frame)\n",
    "\n",
    "        cap.release()\n",
    "        if out is not None:\n",
    "            out.release()\n"
   ]
  },
  {
   "cell_type": "code",
   "execution_count": 16,
   "metadata": {},
   "outputs": [],
   "source": [
    "folder_A = \"/shared/katop1234/video_inpainting/video_inpainting/test_images/single_davis_image_prompts\"\n",
    "folder_B = \"/shared/katop1234/video_inpainting/video_inpainting/test_images/colorization_single_davis_image_prompts\"\n",
    "davis_2x2_prepare_colorization_data_images(folder_A, folder_B)"
   ]
  },
  {
   "cell_type": "code",
   "execution_count": null,
   "metadata": {},
   "outputs": [],
   "source": []
  },
  {
   "cell_type": "code",
   "execution_count": null,
   "metadata": {},
   "outputs": [],
   "source": []
  },
  {
   "cell_type": "code",
   "execution_count": null,
   "metadata": {},
   "outputs": [],
   "source": []
  },
  {
   "cell_type": "code",
   "execution_count": null,
   "metadata": {},
   "outputs": [],
   "source": []
  },
  {
   "cell_type": "code",
   "execution_count": null,
   "metadata": {},
   "outputs": [],
   "source": []
  },
  {
   "cell_type": "code",
   "execution_count": null,
   "metadata": {},
   "outputs": [],
   "source": []
  },
  {
   "cell_type": "code",
   "execution_count": null,
   "metadata": {},
   "outputs": [],
   "source": []
  },
  {
   "cell_type": "code",
   "execution_count": null,
   "metadata": {},
   "outputs": [],
   "source": []
  },
  {
   "cell_type": "code",
   "execution_count": null,
   "metadata": {},
   "outputs": [],
   "source": []
  },
  {
   "cell_type": "code",
   "execution_count": null,
   "metadata": {},
   "outputs": [],
   "source": []
  },
  {
   "cell_type": "code",
   "execution_count": null,
   "metadata": {},
   "outputs": [],
   "source": []
  },
  {
   "cell_type": "code",
   "execution_count": null,
   "metadata": {},
   "outputs": [],
   "source": []
  }
 ],
 "metadata": {
  "kernelspec": {
   "display_name": "base",
   "language": "python",
   "name": "python3"
  },
  "language_info": {
   "codemirror_mode": {
    "name": "ipython",
    "version": 3
   },
   "file_extension": ".py",
   "mimetype": "text/x-python",
   "name": "python",
   "nbconvert_exporter": "python",
   "pygments_lexer": "ipython3",
   "version": "3.10.12"
  },
  "orig_nbformat": 4
 },
 "nbformat": 4,
 "nbformat_minor": 2
}
